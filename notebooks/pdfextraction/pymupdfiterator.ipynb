{
 "cells": [
  {
   "cell_type": "code",
   "execution_count": 1,
   "metadata": {},
   "outputs": [],
   "source": [
    "import os\n",
    "import fitz\n",
    "\n",
    "directory_path = '/workspaces/codespaces-jupyter/notebooks/pdfs/'\n",
    "\n",
    "# Iterate through all files in the directory\n",
    "for filename in os.listdir(directory_path):\n",
    "    # Check if the file is a PDF\n",
    "    if filename.endswith('.pdf'):\n",
    "        file_path = os.path.join(directory_path, filename)\n",
    "\n",
    "        # Check if the file exists\n",
    "        if os.path.exists(file_path):\n",
    "            # Create a document object\n",
    "            doc = fitz.open(file_path)\n",
    "\n",
    "            # Extract the number of pages (int)\n",
    "            page_count = doc.page_count\n",
    "\n",
    "            # The metadata (dict) e.g., the author,...\n",
    "            metadata = doc.metadata\n",
    "\n",
    "            # Render and save all the pages as images\n",
    "            # ...\n",
    "            #Get text\n",
    "            #page = doc.load_page(0)\n",
    "            #text = page.get_text()\n",
    "            # Write the page count and metadata to a text file\n",
    "            with open(f\"output/{filename}.txt\", 'w') as f:\n",
    "                f.write(f\"Page count: {page_count}\\n\")\n",
    "                f.write(f\"Metadata: {metadata}\\n\")\n",
    "                # Iterate over all pages\n",
    "                for i in range(doc.page_count):\n",
    "                    page = doc.load_page(i)\n",
    "                    text = page.get_text()\n",
    "\n",
    "                    # Write the text to the text file\n",
    "                    f.write(text + '\\n')"
   ]
  }
 ],
 "metadata": {
  "kernelspec": {
   "display_name": "Python 3",
   "language": "python",
   "name": "python3"
  },
  "language_info": {
   "codemirror_mode": {
    "name": "ipython",
    "version": 3
   },
   "file_extension": ".py",
   "mimetype": "text/x-python",
   "name": "python",
   "nbconvert_exporter": "python",
   "pygments_lexer": "ipython3",
   "version": "3.10.13"
  }
 },
 "nbformat": 4,
 "nbformat_minor": 2
}
